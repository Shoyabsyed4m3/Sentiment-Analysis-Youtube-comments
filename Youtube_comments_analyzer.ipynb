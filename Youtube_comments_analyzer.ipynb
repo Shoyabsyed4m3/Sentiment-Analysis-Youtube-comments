{
  "nbformat": 4,
  "nbformat_minor": 0,
  "metadata": {
    "colab": {
      "name": "Youtube-comments-analyzer",
      "provenance": []
    },
    "kernelspec": {
      "name": "python3",
      "display_name": "Python 3"
    }
  },
  "cells": [
    {
      "cell_type": "code",
      "metadata": {
        "id": "N90jwxfRJx9F",
        "colab_type": "code",
        "colab": {}
      },
      "source": [
        "#To access youtube comments using youtube API we should Authenticate\n",
        "import os\n",
        "\n",
        "SCOPES = ['https://www.googleapis.com/auth/youtube.force-ssl']\n",
        "API_SERVICE_NAME = 'youtube'\n",
        "API_VERSION = 'v3'\n",
        "\n",
        "#Get the youtube API key and download client_secrets.json file\n",
        "\n",
        "CLIENT_SECRETS_FILE  = os.path.join('/content/drive/My Drive/Colab Notebooks/client_secrets.json')"
      ],
      "execution_count": 7,
      "outputs": []
    },
    {
      "cell_type": "code",
      "metadata": {
        "id": "IwufZe5HM5GF",
        "colab_type": "code",
        "colab": {
          "base_uri": "https://localhost:8080/",
          "height": 72
        },
        "outputId": "ec6e6e64-9d6e-4029-a182-4624633bab98"
      },
      "source": [
        "import google.oauth2.credentials\n",
        "\n",
        "from googleapiclient.discovery import build\n",
        "from googleapiclient.errors import HttpError\n",
        "from google_auth_oauthlib.flow import InstalledAppFlow\n",
        "\n",
        "\n",
        "def get_authenticated_service():\n",
        "    flow = InstalledAppFlow.from_client_secrets_file(CLIENT_SECRETS_FILE, SCOPES)\n",
        "    credentials = flow.run_console()\n",
        "    return build(API_SERVICE_NAME, API_VERSION, credentials = credentials)\n",
        "\n",
        "\n",
        "os.environ['OAUTHLIB_INSECURE_TRANSPORT'] = '1'\n",
        "service = get_authenticated_service()\n",
        "\n",
        "\n",
        "#code to cache the login details\n",
        "import os\n",
        "import pickle\n",
        "import google.oauth2.credentials\n",
        "\n",
        "from googleapiclient.discovery import build\n",
        "from googleapiclient.errors import HttpError\n",
        "from google_auth_oauthlib.flow import InstalledAppFlow\n",
        "from google.auth.transport.requests import Request\n",
        "\n",
        "...\n",
        "...\n",
        "\n",
        "def get_authenticated_service():\n",
        "    credentials = None\n",
        "    if os.path.exists('token.pickle'):\n",
        "        with open('token.pickle', 'rb') as token:\n",
        "            credentials = pickle.load(token)\n",
        "    #  Check if the credentials are invalid or do not exist\n",
        "    if not credentials or not credentials.valid:\n",
        "        # Check if the credentials have expired\n",
        "        if credentials and credentials.expired and credentials.refresh_token:\n",
        "            credentials.refresh(Request())\n",
        "        else:\n",
        "            flow = InstalledAppFlow.from_client_secrets_file(\n",
        "                CLIENT_SECRETS_FILE, SCOPES)\n",
        "            credentials = flow.run_console()\n",
        "\n",
        "        # Save the credentials for the next run\n",
        "        with open('token.pickle', 'wb') as token:\n",
        "            pickle.dump(credentials, token)\n",
        "\n",
        "    return build(API_SERVICE_NAME, API_VERSION, credentials = credentials)\n"
      ],
      "execution_count": 8,
      "outputs": [
        {
          "output_type": "stream",
          "text": [
            "Please visit this URL to authorize this application: https://accounts.google.com/o/oauth2/auth?response_type=code&client_id=782597543999-lchm7ola2u3ubdj9rkqgpu2uvun3vlvq.apps.googleusercontent.com&redirect_uri=urn%3Aietf%3Awg%3Aoauth%3A2.0%3Aoob&scope=https%3A%2F%2Fwww.googleapis.com%2Fauth%2Fyoutube.force-ssl&state=oSBu8diANfGiE69P1mclS36AkAe4bM&prompt=consent&access_type=offline\n",
            "Enter the authorization code: 4/2AFb6cM2AHURa9aVe0g3Jyk6s92S073dqA0xCXut36dngRWkKsopQ7s\n"
          ],
          "name": "stdout"
        }
      ]
    },
    {
      "cell_type": "code",
      "metadata": {
        "id": "W14aR6DVK6yQ",
        "colab_type": "code",
        "colab": {}
      },
      "source": [
        "def get_comment_threads(youtube, video_id, comments=[], token=\"\"):\n",
        "    results = youtube.commentThreads().list(\n",
        "        part=\"snippet\",\n",
        "        pageToken=token,\n",
        "        videoId=video_id,\n",
        "        textFormat=\"plainText\"\n",
        "    ).execute()\n",
        "\n",
        "    for item in results[\"items\"]:\n",
        "        comment = item[\"snippet\"][\"topLevelComment\"]\n",
        "        text = comment[\"snippet\"][\"textDisplay\"]\n",
        "        comments.append(text)\n",
        "\n",
        "    if \"nextPageToken\" in results:\n",
        "        return get_comment_threads(youtube, video_id, comments, results[\"nextPageToken\"])\n",
        "    else:\n",
        "        return comments"
      ],
      "execution_count": 9,
      "outputs": []
    },
    {
      "cell_type": "code",
      "metadata": {
        "id": "WgrJxg9vkWm-",
        "colab_type": "code",
        "colab": {
          "base_uri": "https://localhost:8080/",
          "height": 34
        },
        "outputId": "3fc6d67c-f131-482c-d514-5cfe3cb3f553"
      },
      "source": [
        "#Python code for getting videoid from url\n",
        "\n",
        "from urllib.parse import urlparse, parse_qs\n",
        "\n",
        "def extract_video_id(url):\n",
        "    # Examples:\n",
        "    # - http://youtu.be/SA2iWivDJiE\n",
        "    # - http://www.youtube.com/watch?v=_oPAwA_Udwc&feature=feedu\n",
        "    # - http://www.youtube.com/embed/SA2iWivDJiE\n",
        "    # - http://www.youtube.com/v/SA2iWivDJiE?version=3&amp;hl=en_US\n",
        "    query = urlparse(url)\n",
        "    if query.hostname == 'youtu.be': return query.path[1:]\n",
        "    if query.hostname in ('www.youtube.com', 'youtube.com'):\n",
        "        if query.path == '/watch': return parse_qs(query.query)['v'][0]\n",
        "        if query.path[:7] == '/embed/': return query.path.split('/')[2]\n",
        "        if query.path[:3] == '/v/': return query.path.split('/')[2]\n",
        "    # fail?\n",
        "    return None\n",
        "\n",
        "url = input('Enter url of the video : ') # we can directly give videoid\n",
        "videoid = extract_video_id(url)"
      ],
      "execution_count": 10,
      "outputs": [
        {
          "output_type": "stream",
          "text": [
            "Enter url of the video : https://www.youtube.com/watch?v=4KcMdH8qiuk\n"
          ],
          "name": "stdout"
        }
      ]
    },
    {
      "cell_type": "code",
      "metadata": {
        "id": "b2fMwTTtkgkt",
        "colab_type": "code",
        "colab": {}
      },
      "source": [
        "comments = get_comment_threads(service,videoid) #to get comments of the video, this will take sometime to extract comments\n"
      ],
      "execution_count": 11,
      "outputs": []
    },
    {
      "cell_type": "code",
      "metadata": {
        "id": "JE4VcQ1gIro2",
        "colab_type": "code",
        "colab": {}
      },
      "source": [
        "positive_comments = 0\n",
        "negative_comments = 0\n",
        "neutral_comments = 0\n"
      ],
      "execution_count": 20,
      "outputs": []
    },
    {
      "cell_type": "code",
      "metadata": {
        "id": "xVee3UkPIB9r",
        "colab_type": "code",
        "colab": {}
      },
      "source": [
        "\n",
        "from vaderSentiment.vaderSentiment import SentimentIntensityAnalyzer\n",
        "sentiment = SentimentIntensityAnalyzer()\n",
        "for i in comments:\n",
        "  score = sentiment.polarity_scores(i)['compound']\n",
        "  if score >0.05:\n",
        "    positive_comments+=1\n",
        "  elif score > -0.05 and score < 0.05:\n",
        "    neutral_comments+=1\n",
        "  else:\n",
        "    negative_comments+=1\n"
      ],
      "execution_count": 21,
      "outputs": []
    },
    {
      "cell_type": "code",
      "metadata": {
        "id": "MvHWrxe9Ci78",
        "colab_type": "code",
        "colab": {
          "base_uri": "https://localhost:8080/",
          "height": 352
        },
        "outputId": "3b6dd04f-2040-48d4-d246-00c9ad06bc72"
      },
      "source": [
        "import matplotlib.pyplot as plt\n",
        "\n",
        "print('After Analysing',len(comments),'comments :')\n",
        "print('The result is')\n",
        "print()\n",
        "print('Total positive comments :',positive_comments)\n",
        "print('Total Negative comments :',negative_comments)\n",
        "print('Total Neutral comments :',neutral_comments)\n",
        "\n",
        "data = [positive_comments,negative_comments,neutral_comments]\n",
        "labels=['positive','negative','Neutral']\n",
        "plt.pie(data,labels=labels,autopct='%.2f')\n",
        "plt.show()"
      ],
      "execution_count": 22,
      "outputs": [
        {
          "output_type": "stream",
          "text": [
            "After Analysing 6816 comments :\n",
            "The result is\n",
            "\n",
            "Total positive comments : 3948\n",
            "Total Negative comments : 1145\n",
            "Total Neutral comments : 1723\n"
          ],
          "name": "stdout"
        },
        {
          "output_type": "display_data",
          "data": {
            "image/png": "[encoded data removed]",
            "text/plain": [
              "<Figure size 432x288 with 1 Axes>"
            ]
          },
          "metadata": {
            "tags": []
          }
        }
      ]
    },
    {
      "cell_type": "code",
      "metadata": {
        "id": "id5jS26VNUG8",
        "colab_type": "code",
        "colab": {}
      },
      "source": [
        ""
      ],
      "execution_count": null,
      "outputs": []
    }
  ]
}