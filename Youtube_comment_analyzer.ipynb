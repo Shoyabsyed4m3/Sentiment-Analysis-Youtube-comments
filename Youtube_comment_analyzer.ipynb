{
  "nbformat": 4,
  "nbformat_minor": 0,
  "metadata": {
    "colab": {
      "name": "Youtube-comment-analyzer",
      "provenance": []
    },
    "kernelspec": {
      "name": "python3",
      "display_name": "Python 3"
    }
  },
  "cells": [
    {
      "cell_type": "code",
      "metadata": {
        "id": "N90jwxfRJx9F",
        "colab_type": "code",
        "colab": {}
      },
      "source": [
        "#To access youtube comments using youtube API we should Authenticate\n",
        "import os\n",
        "\n",
        "SCOPES = ['https://www.googleapis.com/auth/youtube.force-ssl']\n",
        "API_SERVICE_NAME = 'youtube'\n",
        "API_VERSION = 'v3'\n",
        "\n",
        "#Get the youtube API key and download client_secrets.json file\n",
        "\n",
        "CLIENT_SECRETS_FILE  = os.path.join('/content/drive/My Drive/Colab Notebooks/client_secrets.json')"
      ],
      "execution_count": 3,
      "outputs": []
    },
    {
      "cell_type": "code",
      "metadata": {
        "id": "IwufZe5HM5GF",
        "colab_type": "code",
        "colab": {
          "base_uri": "https://localhost:8080/",
          "height": 72
        },
        "outputId": "dd177de4-555f-46e6-bc40-094cd6816114"
      },
      "source": [
        "import google.oauth2.credentials\n",
        "\n",
        "from googleapiclient.discovery import build\n",
        "from googleapiclient.errors import HttpError\n",
        "from google_auth_oauthlib.flow import InstalledAppFlow\n",
        "\n",
        "\n",
        "def get_authenticated_service():\n",
        "    flow = InstalledAppFlow.from_client_secrets_file(CLIENT_SECRETS_FILE, SCOPES)\n",
        "    credentials = flow.run_console()\n",
        "    return build(API_SERVICE_NAME, API_VERSION, credentials = credentials)\n",
        "\n",
        "\n",
        "os.environ['OAUTHLIB_INSECURE_TRANSPORT'] = '1'\n",
        "service = get_authenticated_service()\n",
        "\n",
        "\n",
        "#code to cache the login details\n",
        "import os\n",
        "import pickle\n",
        "import google.oauth2.credentials\n",
        "\n",
        "from googleapiclient.discovery import build\n",
        "from googleapiclient.errors import HttpError\n",
        "from google_auth_oauthlib.flow import InstalledAppFlow\n",
        "from google.auth.transport.requests import Request\n",
        "\n",
        "...\n",
        "...\n",
        "\n",
        "def get_authenticated_service():\n",
        "    credentials = None\n",
        "    if os.path.exists('token.pickle'):\n",
        "        with open('token.pickle', 'rb') as token:\n",
        "            credentials = pickle.load(token)\n",
        "    #  Check if the credentials are invalid or do not exist\n",
        "    if not credentials or not credentials.valid:\n",
        "        # Check if the credentials have expired\n",
        "        if credentials and credentials.expired and credentials.refresh_token:\n",
        "            credentials.refresh(Request())\n",
        "        else:\n",
        "            flow = InstalledAppFlow.from_client_secrets_file(\n",
        "                CLIENT_SECRETS_FILE, SCOPES)\n",
        "            credentials = flow.run_console()\n",
        "\n",
        "        # Save the credentials for the next run\n",
        "        with open('token.pickle', 'wb') as token:\n",
        "            pickle.dump(credentials, token)\n",
        "\n",
        "    return build(API_SERVICE_NAME, API_VERSION, credentials = credentials)\n"
      ],
      "execution_count": 4,
      "outputs": [
        {
          "output_type": "stream",
          "text": [
            "Please visit this URL to authorize this application: https://accounts.google.com/o/oauth2/auth?response_type=code&client_id=782597543999-lchm7ola2u3ubdj9rkqgpu2uvun3vlvq.apps.googleusercontent.com&redirect_uri=urn%3Aietf%3Awg%3Aoauth%3A2.0%3Aoob&scope=https%3A%2F%2Fwww.googleapis.com%2Fauth%2Fyoutube.force-ssl&state=cm1TPsP2hrmrrWoMEwFl4UOvKoTl1l&prompt=consent&access_type=offline\n",
            "Enter the authorization code: 4/1wFaBGbdwcZzdQ5quuYW0qCqpNFWN66jJIafYsp2EsfjqS349prcSZc\n"
          ],
          "name": "stdout"
        }
      ]
    },
    {
      "cell_type": "code",
      "metadata": {
        "id": "W14aR6DVK6yQ",
        "colab_type": "code",
        "colab": {}
      },
      "source": [
        "def get_comment_threads(youtube, video_id, comments=[], token=\"\"):\n",
        "    results = youtube.commentThreads().list(\n",
        "        part=\"snippet\",\n",
        "        pageToken=token,\n",
        "        videoId=video_id,\n",
        "        textFormat=\"plainText\"\n",
        "    ).execute()\n",
        "\n",
        "    for item in results[\"items\"]:\n",
        "        comment = item[\"snippet\"][\"topLevelComment\"]\n",
        "        text = comment[\"snippet\"][\"textDisplay\"]\n",
        "        comments.append(text)\n",
        "\n",
        "    if \"nextPageToken\" in results:\n",
        "        return get_comment_threads(youtube, video_id, comments, results[\"nextPageToken\"])\n",
        "    else:\n",
        "        return comments"
      ],
      "execution_count": 7,
      "outputs": []
    },
    {
      "cell_type": "code",
      "metadata": {
        "id": "WgrJxg9vkWm-",
        "colab_type": "code",
        "colab": {
          "base_uri": "https://localhost:8080/",
          "height": 34
        },
        "outputId": "7ab813e4-a088-49bd-de56-66311cde5024"
      },
      "source": [
        "#Python code for getting videoid from url\n",
        "\n",
        "from urllib.parse import urlparse, parse_qs\n",
        "\n",
        "def extract_video_id(url):\n",
        "    # Examples:\n",
        "    # - http://youtu.be/SA2iWivDJiE\n",
        "    # - http://www.youtube.com/watch?v=_oPAwA_Udwc&feature=feedu\n",
        "    # - http://www.youtube.com/embed/SA2iWivDJiE\n",
        "    # - http://www.youtube.com/v/SA2iWivDJiE?version=3&amp;hl=en_US\n",
        "    query = urlparse(url)\n",
        "    if query.hostname == 'youtu.be': return query.path[1:]\n",
        "    if query.hostname in ('www.youtube.com', 'youtube.com'):\n",
        "        if query.path == '/watch': return parse_qs(query.query)['v'][0]\n",
        "        if query.path[:7] == '/embed/': return query.path.split('/')[2]\n",
        "        if query.path[:3] == '/v/': return query.path.split('/')[2]\n",
        "    # fail?\n",
        "    return None\n",
        "\n",
        "url = input('Enter url of the video : ') # we can directly give videoid\n",
        "videoid = extract_video_id(url)"
      ],
      "execution_count": 8,
      "outputs": [
        {
          "output_type": "stream",
          "text": [
            "Enter url of the video : https://www.youtube.com/watch?v=4KcMdH8qiuk\n"
          ],
          "name": "stdout"
        }
      ]
    },
    {
      "cell_type": "code",
      "metadata": {
        "id": "b2fMwTTtkgkt",
        "colab_type": "code",
        "colab": {}
      },
      "source": [
        "comments = get_comment_threads(service,videoid) #to get comments of the video\n"
      ],
      "execution_count": null,
      "outputs": []
    },
    {
      "cell_type": "code",
      "metadata": {
        "id": "2fhcX0DonySC",
        "colab_type": "code",
        "colab": {}
      },
      "source": [
        "#Using Neural Networks to Train our model\n",
        "\n",
        "%tensorflow_version 2.x\n",
        "import tensorflow as tf\n",
        "import tensorflow_hub as hub\n",
        "import keras\n",
        "import numpy as np\n",
        "import pandas as pd\n",
        "import matplotlib.pyplot as plt\n"
      ],
      "execution_count": 19,
      "outputs": []
    },
    {
      "cell_type": "code",
      "metadata": {
        "id": "TuhCaYiiobKQ",
        "colab_type": "code",
        "colab": {
          "base_uri": "https://localhost:8080/",
          "height": 259
        },
        "outputId": "1f867121-a70a-4526-8abd-7022f50b2431"
      },
      "source": [
        "#this is a model from tensorflow hub to convert text in to a vector\n",
        "\n",
        "hub_layer = hub.KerasLayer(\"https://tfhub.dev/google/tf2-preview/gnews-swivel-20dim/1\",\n",
        "                           input_shape=[], dtype=tf.string,trainable=True)\n",
        "\n",
        "model = tf.keras.Sequential()\n",
        "model.add(hub_layer)\n",
        "model.add(tf.keras.layers.Dense(16, activation='relu'))\n",
        "model.add(tf.keras.layers.Dense(1, activation='sigmoid'))\n",
        "\n",
        "model.summary()\n"
      ],
      "execution_count": 11,
      "outputs": [
        {
          "output_type": "stream",
          "text": [
            "Model: \"sequential\"\n",
            "_________________________________________________________________\n",
            "Layer (type)                 Output Shape              Param #   \n",
            "=================================================================\n",
            "keras_layer (KerasLayer)     (None, 20)                400020    \n",
            "_________________________________________________________________\n",
            "dense (Dense)                (None, 16)                336       \n",
            "_________________________________________________________________\n",
            "dense_1 (Dense)              (None, 1)                 17        \n",
            "=================================================================\n",
            "Total params: 400,373\n",
            "Trainable params: 400,373\n",
            "Non-trainable params: 0\n",
            "_________________________________________________________________\n"
          ],
          "name": "stdout"
        }
      ]
    },
    {
      "cell_type": "code",
      "metadata": {
        "id": "pWvRWTYvtRgW",
        "colab_type": "code",
        "colab": {}
      },
      "source": [
        "model.compile(loss='binary_crossentropy',metrics=['accuracy'])"
      ],
      "execution_count": 12,
      "outputs": []
    },
    {
      "cell_type": "code",
      "metadata": {
        "id": "Fi3GNCM0uVIW",
        "colab_type": "code",
        "colab": {}
      },
      "source": [
        "#Dataset of 50000 movie reviews to train our model\n",
        "dataset  = os.path.join('/content/drive/My Drive/Colab Notebooks/IMDB Dataset.csv')\n",
        "df = pd.read_csv(dataset)"
      ],
      "execution_count": 13,
      "outputs": []
    },
    {
      "cell_type": "code",
      "metadata": {
        "id": "wvusGwxi87I4",
        "colab_type": "code",
        "colab": {}
      },
      "source": [
        "#Encoding positive as 1 and negative as 0\n",
        "sentiment = [0 if df['sentiment'][i]=='negative' else 1 for i in range(df.shape[0])]\n",
        "df = df.drop('sentiment',axis=1)\n",
        "df['sentiment'] = sentiment\n",
        "\n",
        "reviews = np.asarray(df.review)\n",
        "sentiments = np.asarray(df.sentiment)\n",
        "comments = np.array(comments)"
      ],
      "execution_count": 14,
      "outputs": []
    },
    {
      "cell_type": "code",
      "metadata": {
        "id": "rWdzGE07-ktH",
        "colab_type": "code",
        "colab": {
          "base_uri": "https://localhost:8080/",
          "height": 708
        },
        "outputId": "f68e800a-fc0e-41ba-8db3-dc3f3f8b7d8c"
      },
      "source": [
        "model.fit(reviews,sentiments,batch_size=500,epochs=20)\n",
        "result = model.predict(comments)"
      ],
      "execution_count": 15,
      "outputs": [
        {
          "output_type": "stream",
          "text": [
            "Epoch 1/20\n",
            "100/100 [==============================] - 4s 44ms/step - loss: 0.9546 - accuracy: 0.5273\n",
            "Epoch 2/20\n",
            "100/100 [==============================] - 4s 44ms/step - loss: 0.5386 - accuracy: 0.7364\n",
            "Epoch 3/20\n",
            "100/100 [==============================] - 4s 44ms/step - loss: 0.4355 - accuracy: 0.8064\n",
            "Epoch 4/20\n",
            "100/100 [==============================] - 4s 44ms/step - loss: 0.3657 - accuracy: 0.8447\n",
            "Epoch 5/20\n",
            "100/100 [==============================] - 4s 43ms/step - loss: 0.3205 - accuracy: 0.8659\n",
            "Epoch 6/20\n",
            "100/100 [==============================] - 4s 44ms/step - loss: 0.2904 - accuracy: 0.8811\n",
            "Epoch 7/20\n",
            "100/100 [==============================] - 4s 44ms/step - loss: 0.2674 - accuracy: 0.8918\n",
            "Epoch 8/20\n",
            "100/100 [==============================] - 5s 45ms/step - loss: 0.2496 - accuracy: 0.8993\n",
            "Epoch 9/20\n",
            "100/100 [==============================] - 5s 45ms/step - loss: 0.2360 - accuracy: 0.9064\n",
            "Epoch 10/20\n",
            "100/100 [==============================] - 4s 44ms/step - loss: 0.2247 - accuracy: 0.9108\n",
            "Epoch 11/20\n",
            "100/100 [==============================] - 4s 44ms/step - loss: 0.2154 - accuracy: 0.9149\n",
            "Epoch 12/20\n",
            "100/100 [==============================] - 4s 44ms/step - loss: 0.2072 - accuracy: 0.9187\n",
            "Epoch 13/20\n",
            "100/100 [==============================] - 4s 45ms/step - loss: 0.1997 - accuracy: 0.9233\n",
            "Epoch 14/20\n",
            "100/100 [==============================] - 4s 45ms/step - loss: 0.1942 - accuracy: 0.9247\n",
            "Epoch 15/20\n",
            "100/100 [==============================] - 4s 45ms/step - loss: 0.1878 - accuracy: 0.9292\n",
            "Epoch 16/20\n",
            "100/100 [==============================] - 4s 44ms/step - loss: 0.1824 - accuracy: 0.9313\n",
            "Epoch 17/20\n",
            "100/100 [==============================] - 4s 45ms/step - loss: 0.1784 - accuracy: 0.9333\n",
            "Epoch 18/20\n",
            "100/100 [==============================] - 4s 44ms/step - loss: 0.1732 - accuracy: 0.9358\n",
            "Epoch 19/20\n",
            "100/100 [==============================] - 4s 44ms/step - loss: 0.1692 - accuracy: 0.9371\n",
            "Epoch 20/20\n",
            "100/100 [==============================] - 4s 44ms/step - loss: 0.1650 - accuracy: 0.9384\n"
          ],
          "name": "stdout"
        }
      ]
    },
    {
      "cell_type": "code",
      "metadata": {
        "id": "eqgjTa7UDP7R",
        "colab_type": "code",
        "colab": {}
      },
      "source": [
        "positive_comments = []\n",
        "negative_comments = []\n",
        "neutral_comments =  []\n",
        "\n",
        "for i in result:\n",
        "  if i> 0.3 and i<0.7:\n",
        "    neutral_comments.append(i)\n",
        "  elif i<0.3:\n",
        "    negative_comments.append(i)\n",
        "  elif i>0.7:\n",
        "    positive_comments.append(i)\n",
        "  "
      ],
      "execution_count": 16,
      "outputs": []
    },
    {
      "cell_type": "code",
      "metadata": {
        "id": "MvHWrxe9Ci78",
        "colab_type": "code",
        "colab": {
          "base_uri": "https://localhost:8080/",
          "height": 121
        },
        "outputId": "0bcfd1b0-e5a1-4a98-aa72-94e027a8ea3d"
      },
      "source": [
        "print('After Analysing',comments.shape[0],'comments :')\n",
        "print('The result is')\n",
        "print()\n",
        "print('Total positive comments',len(positive_comments))\n",
        "print('Total Negative comments',len(negative_comments))\n",
        "print('Total Neutral comments',len(neutral_comments))\n"
      ],
      "execution_count": 17,
      "outputs": [
        {
          "output_type": "stream",
          "text": [
            "After Analysing 6809 comments :\n",
            "The result is\n",
            "\n",
            "Total positive comments 2973\n",
            "Total Negative comments 1480\n",
            "Total Neutral comments 2356\n"
          ],
          "name": "stdout"
        }
      ]
    },
    {
      "cell_type": "code",
      "metadata": {
        "id": "HXDc9DptMigs",
        "colab_type": "code",
        "colab": {
          "base_uri": "https://localhost:8080/",
          "height": 404
        },
        "outputId": "820a02eb-fad8-4769-ad97-d926a1a80eeb"
      },
      "source": [
        "data = [len(positive_comments),len(negative_comments),len(neutral_comments)]\n",
        "labels=['positive','negative','Neutral']\n",
        "plt.pie(data,labels=labels,autopct='%.2f')\n"
      ],
      "execution_count": 27,
      "outputs": [
        {
          "output_type": "execute_result",
          "data": {
            "text/plain": [
              "([<matplotlib.patches.Wedge at 0x7f3d1059fe80>,\n",
              "  <matplotlib.patches.Wedge at 0x7f3d1052c668>,\n",
              "  <matplotlib.patches.Wedge at 0x7f3d1052cdd8>],\n",
              " [Text(0.2175541130478004, 1.0782718617751208, 'positive'),\n",
              "  Text(-1.055727809929897, -0.3089316936486503, 'negative'),\n",
              "  Text(0.5116274814880101, -0.9737747789844612, 'Neutral')],\n",
              " [Text(0.11866587984425475, 0.5881482882409749, '43.66'),\n",
              "  Text(-0.5758515326890347, -0.1685081965356274, '21.74'),\n",
              "  Text(0.2790695353570964, -0.5311498794460696, '34.60')])"
            ]
          },
          "metadata": {
            "tags": []
          },
          "execution_count": 27
        },
        {
          "output_type": "display_data",
          "data": {
            "image/png": "[encoded data removed]",
            "text/plain": [
              "<Figure size 432x288 with 1 Axes>"
            ]
          },
          "metadata": {
            "tags": []
          }
        }
      ]
    },
    {
      "cell_type": "code",
      "metadata": {
        "id": "85qQ8D0INHr2",
        "colab_type": "code",
        "colab": {}
      },
      "source": [
        ""
      ],
      "execution_count": null,
      "outputs": []
    }
  ]
}